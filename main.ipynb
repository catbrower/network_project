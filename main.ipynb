{
 "cells": [
  {
   "cell_type": "code",
   "execution_count": 1,
   "metadata": {},
   "outputs": [],
   "source": [
    "# Presenting next friday! get 'er done!\n",
    "\n",
    "# Ding Yanna\n",
    "# dingy6@rpi.edu\n",
    "\n",
    "import ray\n",
    "import numpy as np\n",
    "\n",
    "# https://arxiv.org/pdf/1811.00141.pdf\n",
    "# ref 30 Net10 in SI table 1\n",
    "\n",
    "\n",
    "ray.init(num_cpus=7, num_gpus=1)\n",
    "\n",
    "# Hyperparams\n",
    "N = 10\n",
    "\n",
    "# I think d is the death rate. vary from 0.05 to 4\n",
    "# field measurements are typically 0.1 - 0.3\n",
    "d = 0\n",
    "\n",
    "# self-limitation parameter. fixed at 1 in simulations\n",
    "# changes the density by 1 / s i.e to get real answer divide by whatever s is\n",
    "s = 1\n",
    "alpha = 1\n",
    "\n",
    "# Define a random adjacency matrix\n",
    "# important, Aij != Aji\n",
    "A = np.random.randint(0, 2, size=(N, N))\n",
    "\n",
    "death_rate_min = 0\n",
    "death_rate_max = 4\n",
    "death_rate_step = 0.1\n",
    "\n",
    "# Can't use normal here b/c negative. paper says 'a prob distribution' but not which one\n",
    "# mean value is gamma (from data) and width is delta (not sure yet what that is)\n",
    "# delta < gamma\n",
    "# I think use a uniform dist\n",
    "# okay I finanlly got it, uniform dist with mean gamma and 'width' (std)? delta\n",
    "# eqn 23 in SI section 3 details the prob dist\n",
    "# if delta is 0 then all weights are gamma so, \n",
    "gamma_min = 0\n",
    "gamma_max = 0\n",
    "gamma_step = 0\n",
    "# gamma = np.random.uniform(0, 1, size=(N, N))\n",
    "\n",
    "delta_min = 0\n",
    "delta_max = 0\n",
    "delta_step = 0\n",
    "\n",
    "# integrate eqn 1 via 4th order runge-kutta algo until system reaches fixed point use t = 0.01, steady state at around 1e5\n",
    "# init weights uniformly (0, 1] i guess\n",
    "# similar to the process in SI section III with P(gamma_i_j)\n",
    "\n",
    "\n",
    "def get_kcores(adj_matrix):\n",
    "    cores = {}\n",
    "    _adj_matrix = adj_matrix.copy()\n",
    "    core = 1\n",
    "    while _adj_matrix.sum() > 0:\n",
    "        cores[core] = {'rows': [], 'cols': []}\n",
    "\n",
    "        removed = 1\n",
    "        while removed > 0:\n",
    "            removed = 0\n",
    "            for row in range(_adj_matrix.shape()[0]):\n",
    "                if _adj_matrix[row].sum() <= core:\n",
    "                    _adj_matrix[row] = 0\n",
    "                    cores[core]['rows'].append(row)\n",
    "                    removed += 1\n",
    "\n",
    "            for col in range(_adj_matrix.shape()[1]):\n",
    "                if _adj_matrix[:, col].sum() <= core:\n",
    "                    _adj_matrix[:, col] = 0\n",
    "                    cores[core]['cols'].append(col)\n",
    "                    removed += 1\n",
    "    return cores\n",
    "    \n"
   ]
  },
  {
   "cell_type": "markdown",
   "metadata": {},
   "source": [
    "Numerical Analysis"
   ]
  },
  {
   "cell_type": "code",
   "execution_count": 2,
   "metadata": {},
   "outputs": [
    {
     "name": "stdout",
     "output_type": "stream",
     "text": [
      "\n"
     ]
    }
   ],
   "source": [
    "import ray\n",
    "\n",
    "from RungeKutta import RK4\n",
    "\n",
    "# Paper claims 1e5 iterations for stability\n",
    "def solver(A, G, X, alpha, s, death_rate):\n",
    "    solver = RK4(X)\n",
    "    return solver.solve(y, 0.01, int(1e5))\n",
    "\n",
    "@ray.remote\n",
    "def ray_solver(A, G, X, alpha, s, death_rate):\n",
    "    return solver(A, G, alpha, s, death_rate)\n",
    "\n",
    "def K_gamma(gamma, d):\n",
    "    return alpha * s (gamma + d) / (gamma - d) ** 2\n",
    "\n",
    "def f(i, t, x, y):\n",
    "    outer_sum = 0\n",
    "    for j1 in range(N):\n",
    "\n",
    "        inner_sum = 0\n",
    "        for j2 in range(N):\n",
    "            inner_sum += A[i][j2] * x[j2]\n",
    "\n",
    "        outer_sum += A[i][j1] * gamma[i][j1] * x[j1] / (alpha + inner_sum)\n",
    "    return - d/s + 1/s + outer_sum\n",
    "\n",
    "# Create system of equations\n",
    "xs = []\n",
    "for i in range(N):\n",
    "    xs.append(lambda t, x, y: f(i, t, x, y))\n",
    "\n",
    "jobs = []\n",
    "for death_rate in np.arange(death_rate_min, death_rate_max, death_rate_step):\n",
    "    for gamma in np.arange(gamma_min, gamma_max, gamma_step):\n",
    "        for delta in np.arange(delta_min, delta_max, delta_step):\n",
    "            G = np.random.uniform(gamma - delta, gamma + delta, size=(N, N))\n",
    "            jobs.append(ray_solver.remote(A, G, alpha, s, death_rate))\n",
    "\n",
    "ray.get(jobs)"
   ]
  },
  {
   "cell_type": "markdown",
   "metadata": {},
   "source": [
    "Stability Analysis\n",
    "\n",
    "Depends on fixed point eqns\n",
    "\n",
    "TODO\n",
    "review stability theory [1]"
   ]
  }
 ],
 "metadata": {
  "kernelspec": {
   "display_name": "Python 3.8.10 ('network_project-_QifiB9A')",
   "language": "python",
   "name": "python3"
  },
  "language_info": {
   "codemirror_mode": {
    "name": "ipython",
    "version": 3
   },
   "file_extension": ".py",
   "mimetype": "text/x-python",
   "name": "python",
   "nbconvert_exporter": "python",
   "pygments_lexer": "ipython3",
   "version": "3.8.10"
  },
  "orig_nbformat": 4,
  "vscode": {
   "interpreter": {
    "hash": "db8f661c4a3e8fa9ba7ced509f17f8dbd192af428876dbf63277cd9fbad1ea31"
   }
  }
 },
 "nbformat": 4,
 "nbformat_minor": 2
}
