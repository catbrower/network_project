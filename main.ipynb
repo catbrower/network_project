{
 "cells": [
  {
   "cell_type": "code",
   "execution_count": 1,
   "metadata": {},
   "outputs": [],
   "source": [
    "import numpy as np\n",
    "\n",
    "# Hyperparams\n",
    "N = 10\n",
    "\n",
    "# I think d is the death rate. vary from 0.05 to 4\n",
    "# field measurements are typically 0.1 - 0.3\n",
    "d = 0\n",
    "\n",
    "# self-limitation parameter. fixed at 1 in simulations\n",
    "# changes the density by 1 / s i.e to get real answer divide by whatever s is\n",
    "s = 1\n",
    "alpha = 1\n",
    "\n",
    "# Define a random adjacency matrix\n",
    "# important, Aij != Aji\n",
    "A = np.random.randint(0, 2, size=(N, N))\n",
    "\n",
    "# Can't use normal here b/c negative. paper says 'a prob distribution' but not which one\n",
    "# mean value is gamma (from data) and width is delta (not sure yet what that is)\n",
    "# delta < gamma\n",
    "# I think use a uniform dist\n",
    "# okay I finanlly got it, uniform dist with mean gamma and 'width' (std)? delta\n",
    "# eqn 23 in SI section 3 details the prob dist\n",
    "# if delta is 0 then all weights are gamma so, \n",
    "gamma = np.random.uniform(0, 1, size=(N, N))\n",
    "\n",
    "Ag = A * gamma\n",
    "# integrate eqn 1 via 4th order runge-kutta algo until system reaches fixed point use t = 0.01, steady state at around 1e5\n",
    "# init weights uniformly (0, 1] i guess\n",
    "# similar to the process in SI section III with P(gamma_i_j)\n",
    "\n",
    "\n"
   ]
  },
  {
   "cell_type": "code",
   "execution_count": 3,
   "metadata": {},
   "outputs": [],
   "source": [
    "from RungeKutta import RK4\n",
    "\n",
    "def f(i, t, x, y):\n",
    "    outer_sum = 0\n",
    "    for j1 in range(N):\n",
    "\n",
    "        inner_sum = 0\n",
    "        for j2 in range(N):\n",
    "            inner_sum += A[i][j] * x[j2]\n",
    "\n",
    "        outer_sum += A[i][j1] * gamma[i][j1] * x[j1] / (alpha + inner_sum)\n",
    "    return - d/s + 1/s + outer_sum\n",
    "\n",
    "# Create system of equations\n",
    "xs = []\n",
    "for i in range(N):\n",
    "    xs.append(lambda t, x, y: f(i, t, x, y))\n",
    "\n",
    "print()"
   ]
  }
 ],
 "metadata": {
  "kernelspec": {
   "display_name": "Python 3.8.10 ('network_project-_QifiB9A')",
   "language": "python",
   "name": "python3"
  },
  "language_info": {
   "codemirror_mode": {
    "name": "ipython",
    "version": 3
   },
   "file_extension": ".py",
   "mimetype": "text/x-python",
   "name": "python",
   "nbconvert_exporter": "python",
   "pygments_lexer": "ipython3",
   "version": "3.8.10"
  },
  "orig_nbformat": 4,
  "vscode": {
   "interpreter": {
    "hash": "db8f661c4a3e8fa9ba7ced509f17f8dbd192af428876dbf63277cd9fbad1ea31"
   }
  }
 },
 "nbformat": 4,
 "nbformat_minor": 2
}
